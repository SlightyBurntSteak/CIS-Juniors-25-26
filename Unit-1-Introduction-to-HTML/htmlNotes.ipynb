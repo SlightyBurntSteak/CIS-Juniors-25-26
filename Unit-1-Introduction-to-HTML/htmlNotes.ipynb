{
 "cells": [
  {
   "cell_type": "markdown",
   "id": "9ce4505a",
   "metadata": {},
   "source": [
    "# Introduction to HTML"
   ]
  },
  {
   "cell_type": "markdown",
   "id": "87975d13",
   "metadata": {},
   "source": [
    "## HTML Defined\n",
    "\n",
    "**HTML** - Hypertext Markup Language - This is the languge used to describe your content.\n",
    "\n",
    "**CSS** - Cascading Style Sheets - This is the languge used to design the way your content looks on the web.\n",
    "\n",
    "**JavaScript** - NOT to be confused with java - JS is the languge use to adding Interactivity to web pages\n",
    "\n",
    "### These are the 3 main web languges"
   ]
  },
  {
   "cell_type": "markdown",
   "id": "d4c630cd",
   "metadata": {},
   "source": [
    "### Web Browsers\n",
    "\n",
    "* Software used for browsing, reading, and translating web documents\n",
    "* Examples of web browsers: \n",
    "    * Google Chrome\n",
    "    * Firefox\n",
    "    * Microsoft Edge\n",
    "    * Opera GX\n",
    "    * Duck Duck Go\n",
    "    * Safari\n",
    "    * Brave\n",
    "    * Internet Explorer (MS) - Depricated\n",
    "    * Netscape - Depricated\n",
    "* Why you dont use old or UN-Updated browsers\n",
    "    * Security - security updates \n",
    "\n"
   ]
  },
  {
   "cell_type": "markdown",
   "id": "f2338c90",
   "metadata": {},
   "source": [
    "### HTML Skeleton/Structure\n",
    "\n",
    "#### See index.html in this folder\n",
    "\n",
    "### Structure of an HTML Tag: \n",
    "\n",
    "\n",
    " <meta charset=\"UTF-8\">\n",
    "\n",
    "* Tag name\n",
    "* Attrubute(s)\n",
    "* Attribute Values"
   ]
  },
  {
   "cell_type": "markdown",
   "id": "c105701a",
   "metadata": {},
   "source": [
    "### Key Concpets of HTML\n",
    "\n",
    "* Most HTML Tags have an Opening & Closing Tag\n",
    "* HTML Elements - These are created by a complete pair of tags with content\n",
    "* Attributes - additional information about the elements\n",
    "\n",
    "#### Essentail HTML Elements:\n",
    "\n",
    "* < h1 > </ h1 > through < h6 > </ h6 > headings, H1 is the largest by default, H6 is the smallest\n",
    "* < p > < /p > - paragraph element\n",
    "* < br > - Line Break"
   ]
  },
  {
   "cell_type": "markdown",
   "id": "879205d7",
   "metadata": {},
   "source": []
  },
  {
   "cell_type": "markdown",
   "id": "5cf77c87",
   "metadata": {},
   "source": []
  }
 ],
 "metadata": {
  "language_info": {
   "name": "python"
  }
 },
 "nbformat": 4,
 "nbformat_minor": 5
}
